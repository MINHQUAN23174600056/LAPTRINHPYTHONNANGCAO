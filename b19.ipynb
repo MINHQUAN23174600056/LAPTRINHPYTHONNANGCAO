{
 "cells": [
  {
   "cell_type": "code",
   "execution_count": 1,
   "metadata": {},
   "outputs": [
    {
     "name": "stdout",
     "output_type": "stream",
     "text": [
      "[1.0, 2.0, 3.0, 4.0, 5.0, 6.0, 7.0, 8.0, 9.0, 10.0]\n",
      "['apple', 'banana', 'carrot', 'carrot', 'apple', 'carrot', 'banana', 'carrot', 'apple', 'apple']\n"
     ]
    }
   ],
   "source": [
    "import pandas as pd\n",
    "import numpy as np\n",
    "\n",
    "# Tạo dữ liệu ngẫu nhiên\n",
    "fruit = pd.Series(np.random.choice(['apple', 'banana', 'carrot'], 10))\n",
    "weights = pd.Series(np.linspace(1, 10, 10))\n",
    "print(weights.tolist())  \n",
    "print(fruit.tolist()) "
   ]
  },
  {
   "cell_type": "code",
   "execution_count": 2,
   "metadata": {},
   "outputs": [
    {
     "name": "stdout",
     "output_type": "stream",
     "text": [
      "\n",
      "Khối lượng trung bình của từng loại quả:\n",
      "apple     6.25\n",
      "banana    4.50\n",
      "carrot    5.25\n",
      "dtype: float64\n"
     ]
    }
   ],
   "source": [
    "# Tính khối lượng trung bình của từng loại quả\n",
    "average_weights = weights.groupby(fruit).mean()\n",
    "print(\"\\nKhối lượng trung bình của từng loại quả:\")\n",
    "print(average_weights)"
   ]
  }
 ],
 "metadata": {
  "kernelspec": {
   "display_name": "Python 3",
   "language": "python",
   "name": "python3"
  },
  "language_info": {
   "codemirror_mode": {
    "name": "ipython",
    "version": 3
   },
   "file_extension": ".py",
   "mimetype": "text/x-python",
   "name": "python",
   "nbconvert_exporter": "python",
   "pygments_lexer": "ipython3",
   "version": "3.13.0"
  }
 },
 "nbformat": 4,
 "nbformat_minor": 2
}
