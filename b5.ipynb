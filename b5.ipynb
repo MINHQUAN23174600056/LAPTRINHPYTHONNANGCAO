{
 "cells": [
  {
   "cell_type": "code",
   "execution_count": 2,
   "metadata": {},
   "outputs": [
    {
     "name": "stdout",
     "output_type": "stream",
     "text": [
      "Chuỗi ser : 0      3.832687\n",
      "1     10.061769\n",
      "2      7.328815\n",
      "3     21.280265\n",
      "4     20.618354\n",
      "5     11.105047\n",
      "6      1.740279\n",
      "7      2.361775\n",
      "8      8.843939\n",
      "9     11.899640\n",
      "10     3.224034\n",
      "11    12.861115\n",
      "12    13.982325\n",
      "13    15.085735\n",
      "14     3.473867\n",
      "15    24.859663\n",
      "16    10.982233\n",
      "17     6.664783\n",
      "18    15.549268\n",
      "19    13.816515\n",
      "20     7.584721\n",
      "21    10.624621\n",
      "22     9.009547\n",
      "23     1.743956\n",
      "24     9.744067\n",
      "dtype: float64\n"
     ]
    }
   ],
   "source": [
    "import pandas as pd\n",
    "import numpy as np \n",
    "ser = pd.Series(np.random.normal(10,5,25))\n",
    "print(\"Chuỗi ser :\",ser)"
   ]
  },
  {
   "cell_type": "code",
   "execution_count": 3,
   "metadata": {},
   "outputs": [
    {
     "name": "stdout",
     "output_type": "stream",
     "text": [
      "Gia tri toi thieu trong ser la: 1.740278673666225\n"
     ]
    }
   ],
   "source": [
    "#Giá trị tối thiểu trong ser \n",
    "gtri_toi_thieu = ser.min()\n",
    "print(\"Gia tri toi thieu trong ser la:\",gtri_toi_thieu)"
   ]
  },
  {
   "cell_type": "code",
   "execution_count": 4,
   "metadata": {},
   "outputs": [
    {
     "name": "stdout",
     "output_type": "stream",
     "text": [
      "Trung vi cua ser la: 10.061768579725268\n"
     ]
    }
   ],
   "source": [
    "#Trung vị\n",
    "median_ser = ser.median()\n",
    "print(\"Trung vi cua ser la:\",median_ser)"
   ]
  },
  {
   "cell_type": "code",
   "execution_count": 5,
   "metadata": {},
   "outputs": [
    {
     "name": "stdout",
     "output_type": "stream",
     "text": [
      "Phan centile thu 25: 6.664782833506236\n"
     ]
    }
   ],
   "source": [
    "#Phần centile thứ 25\n",
    "percentile_25 = ser.quantile(0.25)\n",
    "print(\"Phan centile thu 25:\",percentile_25)"
   ]
  },
  {
   "cell_type": "code",
   "execution_count": 6,
   "metadata": {},
   "outputs": [
    {
     "name": "stdout",
     "output_type": "stream",
     "text": [
      "Phan centile thu 75: 13.816514845902145\n"
     ]
    }
   ],
   "source": [
    "#Phần centile thứ 75\n",
    "percentile_75 = ser.quantile(0.75)\n",
    "print(\"Phan centile thu 75:\",percentile_75)"
   ]
  },
  {
   "cell_type": "code",
   "execution_count": 7,
   "metadata": {},
   "outputs": [
    {
     "name": "stdout",
     "output_type": "stream",
     "text": [
      "Gia tri toi da cua ser: 24.8596634914459\n"
     ]
    }
   ],
   "source": [
    "#Giá trị tối đa\n",
    "gtri_toi_da = ser.max()\n",
    "print(\"Gia tri toi da cua ser:\",gtri_toi_da)"
   ]
  }
 ],
 "metadata": {
  "kernelspec": {
   "display_name": "Python 3",
   "language": "python",
   "name": "python3"
  },
  "language_info": {
   "codemirror_mode": {
    "name": "ipython",
    "version": 3
   },
   "file_extension": ".py",
   "mimetype": "text/x-python",
   "name": "python",
   "nbconvert_exporter": "python",
   "pygments_lexer": "ipython3",
   "version": "3.13.0"
  }
 },
 "nbformat": 4,
 "nbformat_minor": 2
}
