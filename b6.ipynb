{
 "cells": [
  {
   "cell_type": "code",
   "execution_count": 1,
   "metadata": {},
   "outputs": [
    {
     "name": "stdout",
     "output_type": "stream",
     "text": [
      "Chuỗi ser : 0     e\n",
      "1     d\n",
      "2     c\n",
      "3     g\n",
      "4     d\n",
      "5     g\n",
      "6     c\n",
      "7     h\n",
      "8     e\n",
      "9     d\n",
      "10    h\n",
      "11    b\n",
      "12    a\n",
      "13    a\n",
      "14    a\n",
      "15    a\n",
      "16    a\n",
      "17    a\n",
      "18    f\n",
      "19    d\n",
      "20    e\n",
      "21    d\n",
      "22    g\n",
      "23    h\n",
      "24    a\n",
      "25    f\n",
      "26    g\n",
      "27    c\n",
      "28    d\n",
      "29    b\n",
      "dtype: object\n"
     ]
    }
   ],
   "source": [
    "import pandas as pd\n",
    "import numpy as np \n",
    "ser = pd.Series(np.take(list('abcdefgh'),np.random.randint(8,size = 30)))\n",
    "print(\"Chuỗi ser :\",ser)"
   ]
  },
  {
   "cell_type": "code",
   "execution_count": 2,
   "metadata": {},
   "outputs": [
    {
     "name": "stdout",
     "output_type": "stream",
     "text": [
      "Số lần xuất hiện của mỗi giá trị duy nhất trong ser là: a    7\n",
      "d    6\n",
      "g    4\n",
      "e    3\n",
      "c    3\n",
      "h    3\n",
      "b    2\n",
      "f    2\n",
      "Name: count, dtype: int64\n"
     ]
    }
   ],
   "source": [
    "value_counts = ser.value_counts()\n",
    "print(\"Số lần xuất hiện của mỗi giá trị duy nhất trong ser là:\",value_counts)"
   ]
  }
 ],
 "metadata": {
  "kernelspec": {
   "display_name": "Python 3",
   "language": "python",
   "name": "python3"
  },
  "language_info": {
   "codemirror_mode": {
    "name": "ipython",
    "version": 3
   },
   "file_extension": ".py",
   "mimetype": "text/x-python",
   "name": "python",
   "nbconvert_exporter": "python",
   "pygments_lexer": "ipython3",
   "version": "3.13.0"
  }
 },
 "nbformat": 4,
 "nbformat_minor": 2
}
