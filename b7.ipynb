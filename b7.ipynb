{
 "cells": [
  {
   "cell_type": "code",
   "execution_count": 1,
   "metadata": {},
   "outputs": [],
   "source": [
    "import pandas as pd\n",
    "import numpy as np \n",
    "np.random.RandomState(100)\n",
    "ser = pd.Series(np.random.randint(1,5,[12]))"
   ]
  },
  {
   "cell_type": "code",
   "execution_count": 2,
   "metadata": {},
   "outputs": [
    {
     "name": "stdout",
     "output_type": "stream",
     "text": [
      "Series sau khi thay thế:\n",
      "0         1\n",
      "1     other\n",
      "2         4\n",
      "3         1\n",
      "4     other\n",
      "5         1\n",
      "6         4\n",
      "7         4\n",
      "8         4\n",
      "9     other\n",
      "10        1\n",
      "11        1\n",
      "dtype: object\n"
     ]
    }
   ],
   "source": [
    "# Tìm hai phần tử có tần suất xuất hiện cao nhất\n",
    "top_two = ser.value_counts().nlargest(2).index\n",
    "# Thay thế tất cả các phần tử không nằm trong hai giá trị phổ biến nhất bằng \"other\"\n",
    "ser = ser.where(ser.isin(top_two), other=\"other\")\n",
    "print(\"Series sau khi thay thế:\")\n",
    "print(ser)"
   ]
  }
 ],
 "metadata": {
  "kernelspec": {
   "display_name": "Python 3",
   "language": "python",
   "name": "python3"
  },
  "language_info": {
   "codemirror_mode": {
    "name": "ipython",
    "version": 3
   },
   "file_extension": ".py",
   "mimetype": "text/x-python",
   "name": "python",
   "nbconvert_exporter": "python",
   "pygments_lexer": "ipython3",
   "version": "3.13.0"
  }
 },
 "nbformat": 4,
 "nbformat_minor": 2
}
