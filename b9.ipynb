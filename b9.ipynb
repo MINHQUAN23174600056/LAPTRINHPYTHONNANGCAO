{
 "cells": [
  {
   "cell_type": "code",
   "execution_count": 1,
   "metadata": {},
   "outputs": [],
   "source": [
    "import pandas as pd\n",
    "import numpy as np \n",
    "ser = pd.Series(np.random.randint(1,10,35))"
   ]
  },
  {
   "cell_type": "code",
   "execution_count": 2,
   "metadata": {},
   "outputs": [
    {
     "name": "stdout",
     "output_type": "stream",
     "text": [
      "DataFrame có 7 hàng và 5 cột:    0  1  2  3  4\n",
      "0  9  7  1  3  5\n",
      "1  2  2  7  7  4\n",
      "2  8  4  6  2  8\n",
      "3  4  1  7  5  5\n",
      "4  8  3  9  1  2\n",
      "5  9  2  7  8  8\n",
      "6  4  6  7  3  5\n"
     ]
    }
   ],
   "source": [
    "# Chuyển Series `ser` thành một DataFrame với 7 hàng và 5 cột\n",
    "df = pd.DataFrame(ser.values.reshape(7, 5))\n",
    "print(\"DataFrame có 7 hàng và 5 cột:\",df)"
   ]
  }
 ],
 "metadata": {
  "kernelspec": {
   "display_name": "Python 3",
   "language": "python",
   "name": "python3"
  },
  "language_info": {
   "codemirror_mode": {
    "name": "ipython",
    "version": 3
   },
   "file_extension": ".py",
   "mimetype": "text/x-python",
   "name": "python",
   "nbconvert_exporter": "python",
   "pygments_lexer": "ipython3",
   "version": "3.13.0"
  }
 },
 "nbformat": 4,
 "nbformat_minor": 2
}
