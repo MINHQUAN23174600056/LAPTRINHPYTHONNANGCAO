{
 "cells": [
  {
   "cell_type": "code",
   "execution_count": 4,
   "metadata": {},
   "outputs": [
    {
     "name": "stdout",
     "output_type": "stream",
     "text": [
      "Tên công ty: Công ty TNHH Đất Việt\n",
      " Địa chỉ: abc Giải Phóng - Hà Nội\n",
      " Tổng số nhân viên: 100\n",
      "----Thống kê nhân viên theo đơn vị----\n",
      "Tên đơn vị: Đơn vị A1\n",
      " Số nhân viên: 50\n",
      " Tỷ lệ: 50.00%\n",
      "Tên đơn vị: Đơn vị A2\n",
      " Số nhân viên: 30\n",
      " Tỷ lệ: 30.00%\n",
      "Tên đơn vị: Đơn vị A3\n",
      " Số nhân viên: 20\n",
      " Tỷ lệ: 20.00%\n"
     ]
    }
   ],
   "source": [
    "import json\n",
    "#Đọc dữ liệu từ file JSON\n",
    "def read_employee_data(file_path):\n",
    "    with open(file_path, 'r', encoding='utf-8') as file:\n",
    "        data = json.load(file)\n",
    "    return data\n",
    "#Thống kê nhân viên theo đơn vị\n",
    "def employee_statistics(data):\n",
    "    company_name = data['company']\n",
    "    address = data['address']\n",
    "    total_employees = sum([unit['employees'] for unit in data['units']])\n",
    "    print(f\"Tên công ty: {company_name}\\n Địa chỉ: {address}\\n Tổng số nhân viên: {total_employees}\")\n",
    "    print(\"----Thống kê nhân viên theo đơn vị----\")\n",
    "    for unit in data['units']:\n",
    "        unit_name = unit['name']\n",
    "        num_employees = unit['employees']\n",
    "        percentage = (num_employees / total_employees) * 100\n",
    "        print(f\"Tên đơn vị: {unit_name}\\n Số nhân viên: {num_employees}\\n Tỷ lệ: {percentage:.2f}%\")\n",
    "#Ví dụ dữ liệu JSON\n",
    "employee_data = {\n",
    "    \"company\": \"Công ty TNHH Đất Việt\",\n",
    "    \"address\": \"abc Giải Phóng - Hà Nội\",\n",
    "    \"units\": [\n",
    "        {\"name\": \"Đơn vị A1\", \"employees\": 50},\n",
    "        {\"name\": \"Đơn vị A2\", \"employees\": 30},\n",
    "        {\"name\": \"Đơn vị A3\", \"employees\": 20}\n",
    "    ]\n",
    "}\n",
    "#Lưu dữ liệu JSON mẫu vào file\n",
    "with open('employee_data.json', 'w', encoding='utf-8') as file:\n",
    "    json.dump(employee_data, file, ensure_ascii=False, indent=4)\n",
    "#Đọc và thống kê\n",
    "data = read_employee_data('employee_data.json')\n",
    "employee_statistics(data)\n"
   ]
  }
 ],
 "metadata": {
  "kernelspec": {
   "display_name": "Python 3",
   "language": "python",
   "name": "python3"
  },
  "language_info": {
   "codemirror_mode": {
    "name": "ipython",
    "version": 3
   },
   "file_extension": ".py",
   "mimetype": "text/x-python",
   "name": "python",
   "nbconvert_exporter": "python",
   "pygments_lexer": "ipython3",
   "version": "3.12.3"
  }
 },
 "nbformat": 4,
 "nbformat_minor": 2
}
