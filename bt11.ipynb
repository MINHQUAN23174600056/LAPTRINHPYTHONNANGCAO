{
 "cells": [
  {
   "cell_type": "code",
   "execution_count": 2,
   "metadata": {},
   "outputs": [],
   "source": [
    "import json\n",
    "from datetime import datetime\n",
    "#Ghi dữ liệu giao dịch vào file JSON\n",
    "def save_transaction(transaction_data, file_path):\n",
    "    try:\n",
    "        with open(file_path, 'r', encoding='utf-8') as file:\n",
    "            data = json.load(file)\n",
    "    except FileNotFoundError:\n",
    "        data = []\n",
    "    data.append(transaction_data)\n",
    "    with open(file_path, 'w', encoding='utf-8') as file:\n",
    "        json.dump(data, file, ensure_ascii=False, indent=4)\n",
    "#Hỏi người dùng về giao dịch\n",
    "def record_transaction():\n",
    "    transaction_type = input(\"Nhập loại giao dịch: \")\n",
    "    amount = float(input(\"Nhập số tiền giao dịch: \"))\n",
    "    time_now = datetime.now().strftime(\"%Y-%m-%d %H:%M:%S\")\n",
    "    return {\"type\": transaction_type,\n",
    "            \"amount\": amount,\n",
    "            \"time\": time_now}\n",
    "#Chương trình chính\n",
    "transactions_file = 'transactions.json'\n",
    "while True:\n",
    "    transaction = record_transaction()\n",
    "    save_transaction(transaction, transactions_file)\n",
    "    cont = input(\"Bạn có muốn ghi tiếp giao dịch? (1: Có, 0: Không): \")\n",
    "    if cont == '0':\n",
    "        break\n"
   ]
  }
 ],
 "metadata": {
  "kernelspec": {
   "display_name": "Python 3",
   "language": "python",
   "name": "python3"
  },
  "language_info": {
   "codemirror_mode": {
    "name": "ipython",
    "version": 3
   },
   "file_extension": ".py",
   "mimetype": "text/x-python",
   "name": "python",
   "nbconvert_exporter": "python",
   "pygments_lexer": "ipython3",
   "version": "3.12.3"
  }
 },
 "nbformat": 4,
 "nbformat_minor": 2
}
