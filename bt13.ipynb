{
 "cells": [
  {
   "cell_type": "code",
   "execution_count": 2,
   "metadata": {},
   "outputs": [
    {
     "ename": "ModuleNotFoundError",
     "evalue": "No module named 'requests'",
     "output_type": "error",
     "traceback": [
      "\u001b[1;31m---------------------------------------------------------------------------\u001b[0m",
      "\u001b[1;31mModuleNotFoundError\u001b[0m                       Traceback (most recent call last)",
      "Cell \u001b[1;32mIn[2], line 1\u001b[0m\n\u001b[1;32m----> 1\u001b[0m \u001b[38;5;28;01mimport\u001b[39;00m \u001b[38;5;21;01mrequests\u001b[39;00m\n\u001b[0;32m      2\u001b[0m \u001b[38;5;66;03m# Lấy dữ liệu từ API cho postId=1\u001b[39;00m\n\u001b[0;32m      3\u001b[0m \u001b[38;5;28;01mdef\u001b[39;00m \u001b[38;5;21mfetch_comments\u001b[39m():\n",
      "\u001b[1;31mModuleNotFoundError\u001b[0m: No module named 'requests'"
     ]
    }
   ],
   "source": [
    "import requests\n",
    "#Lấy dữ liệu từ API cho postId=1\n",
    "def fetch_comments():\n",
    "    url = 'https://jsonplaceholder.typicode.com/comments?postId=1'\n",
    "    response = requests.get(url)\n",
    "    return response.json()\n",
    "#Hiển thị thông tin các bình luận\n",
    "def display_comments(comments):\n",
    "    print(f\"Tổng số bình luận: {len(comments)}\")\n",
    "    for comment in comments[:3]:  #Giới hạn hiển thị 3 bình luận đầu tiên\n",
    "        print(f\"ID: {comment['id']}, Name: {comment['name']}, Body: {comment['body']}\")\n",
    "#Chương trình chính\n",
    "comments = fetch_comments()\n",
    "display_comments(comments)\n"
   ]
  }
 ],
 "metadata": {
  "kernelspec": {
   "display_name": "Python 3",
   "language": "python",
   "name": "python3"
  },
  "language_info": {
   "codemirror_mode": {
    "name": "ipython",
    "version": 3
   },
   "file_extension": ".py",
   "mimetype": "text/x-python",
   "name": "python",
   "nbconvert_exporter": "python",
   "pygments_lexer": "ipython3",
   "version": "3.12.3"
  }
 },
 "nbformat": 4,
 "nbformat_minor": 2
}
