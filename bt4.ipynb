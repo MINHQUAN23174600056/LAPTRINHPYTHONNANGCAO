{
 "cells": [
  {
   "cell_type": "markdown",
   "metadata": {},
   "source": [
    "# 1.Tạo arr_zeros có 10 phần tử 0, cập nhật phần tử ở vị trí 5 là 1"
   ]
  },
  {
   "cell_type": "code",
   "execution_count": 13,
   "metadata": {},
   "outputs": [
    {
     "name": "stdout",
     "output_type": "stream",
     "text": [
      "Array arr_zeros: [0. 0. 0. 0. 0. 1. 0. 0. 0. 0.]\n"
     ]
    }
   ],
   "source": [
    "import numpy as np\n",
    "arr_zeros = np.zeros(10)\n",
    "arr_zeros[5] = 1\n",
    "print(\"Array arr_zeros:\", arr_zeros)"
   ]
  },
  {
   "cell_type": "markdown",
   "metadata": {},
   "source": [
    "# 2.Tạo arr_6 có giá trị từ 10 đến 24, đảo ngược thứ tự"
   ]
  },
  {
   "cell_type": "code",
   "execution_count": 12,
   "metadata": {},
   "outputs": [
    {
     "name": "stdout",
     "output_type": "stream",
     "text": [
      "Array arr_6: [24 23 22 21 20 19 18 17 16 15 14 13 12 11 10]\n"
     ]
    }
   ],
   "source": [
    "arr_6 = np.arange(10,25)[::-1]\n",
    "print(\"Array arr_6:\", arr_6)"
   ]
  },
  {
   "cell_type": "markdown",
   "metadata": {},
   "source": [
    "# 3.Tạo arr_k với các phần tử khác 0"
   ]
  },
  {
   "cell_type": "code",
   "execution_count": 10,
   "metadata": {},
   "outputs": [
    {
     "name": "stdout",
     "output_type": "stream",
     "text": [
      "Array arr_k: [1 2 8 2 1 3 5]\n"
     ]
    }
   ],
   "source": [
    "arr_k = np.array([1,2,0,8,2,0,1,3,0,5,0])\n",
    "arr_k1 = arr_k[arr_k != 0]\n",
    "print(\"Array arr_k:\", arr_k1)"
   ]
  },
  {
   "cell_type": "markdown",
   "metadata": {},
   "source": [
    "# 4.Cập nhật 2 phần tử có giá trị 10 và 20 vào cuối array"
   ]
  },
  {
   "cell_type": "code",
   "execution_count": 11,
   "metadata": {},
   "outputs": [
    {
     "name": "stdout",
     "output_type": "stream",
     "text": [
      "Array sau khi thêm: [  0.   0. 100.   0.   0. 100.   0.  10.  20.  10.  20.]\n"
     ]
    }
   ],
   "source": [
    "arr_zeros = np.append(arr_zeros, [10,20])\n",
    "print(\"Array sau khi thêm:\", arr_zeros)"
   ]
  },
  {
   "cell_type": "markdown",
   "metadata": {},
   "source": [
    "# 5.Cập nhật giá trị 100 vào vị trí index 5"
   ]
  },
  {
   "cell_type": "code",
   "execution_count": 9,
   "metadata": {},
   "outputs": [
    {
     "name": "stdout",
     "output_type": "stream",
     "text": [
      "Array sau khi cập nhật: [  0.   0. 100.   0.   0. 100.   0.  10.  20.]\n"
     ]
    }
   ],
   "source": [
    "arr_zeros[5] = 100\n",
    "print(\"Array sau khi cập nhật:\", arr_zeros)"
   ]
  },
  {
   "cell_type": "markdown",
   "metadata": {},
   "source": [
    "# 6.Xóa các phần tử tại các vị trí index 0, 1, 2"
   ]
  },
  {
   "cell_type": "code",
   "execution_count": 14,
   "metadata": {},
   "outputs": [
    {
     "name": "stdout",
     "output_type": "stream",
     "text": [
      "Array sau khi xóa: [0. 0. 1. 0. 0. 0. 0.]\n"
     ]
    }
   ],
   "source": [
    "arr_zeros = np.delete(arr_zeros, [0,1,2])\n",
    "print(\"Array sau khi xóa:\", arr_zeros)"
   ]
  }
 ],
 "metadata": {
  "kernelspec": {
   "display_name": "Python 3",
   "language": "python",
   "name": "python3"
  },
  "language_info": {
   "codemirror_mode": {
    "name": "ipython",
    "version": 3
   },
   "file_extension": ".py",
   "mimetype": "text/x-python",
   "name": "python",
   "nbconvert_exporter": "python",
   "pygments_lexer": "ipython3",
   "version": "3.13.0"
  }
 },
 "nbformat": 4,
 "nbformat_minor": 2
}
