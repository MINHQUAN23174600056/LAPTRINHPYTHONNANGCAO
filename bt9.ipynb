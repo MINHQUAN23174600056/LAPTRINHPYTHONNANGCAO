{
 "cells": [
  {
   "cell_type": "code",
   "execution_count": 3,
   "metadata": {},
   "outputs": [
    {
     "name": "stdout",
     "output_type": "stream",
     "text": [
      "{\n",
      "    \"age\": 19,\n",
      "    \"city\": \"Ha Noi\",\n",
      "    \"name\": \"Quan\"\n",
      "}\n"
     ]
    }
   ],
   "source": [
    "import json\n",
    "python_obj = '{\"name\": \"Quan\", \"age\": 19, \"city\": \"Ha Noi\"}'\n",
    "# Chuyển đổi chuỗi JSON thành từ điển Python\n",
    "python_dict = json.loads(python_obj)\n",
    "#Sắp xếp theo khóa từ điển thành dữ liệu\n",
    "sorted_python_obj = dict(sorted(python_dict.items()))\n",
    "#Chuyển đổi từ điển đã sắp xếp thành chuỗi JSON với mức thụt lề 4\n",
    "json_data = json.dumps(sorted_python_obj, indent=4)\n",
    "print(json_data)"
   ]
  }
 ],
 "metadata": {
  "kernelspec": {
   "display_name": "Python 3",
   "language": "python",
   "name": "python3"
  },
  "language_info": {
   "codemirror_mode": {
    "name": "ipython",
    "version": 3
   },
   "file_extension": ".py",
   "mimetype": "text/x-python",
   "name": "python",
   "nbconvert_exporter": "python",
   "pygments_lexer": "ipython3",
   "version": "3.12.3"
  }
 },
 "nbformat": 4,
 "nbformat_minor": 2
}
