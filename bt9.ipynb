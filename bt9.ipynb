{
 "cells": [
  {
   "cell_type": "code",
   "execution_count": null,
   "metadata": {},
   "outputs": [],
   "source": [
    "import json\n",
    "python_obj = '{\"name\": \"Quan\", \"age\": 19, \"city\": \"Ha Noi\"}'\n",
    "sorted_python_obj = dict(sorted(python_obj.items()))\n",
    "#Sắp xếp theo khóa từ điển thành dữ liệu JSON với mức thụt lề 4\n",
    "json_data = json.dumps(sorted_python_obj, indent=4)\n",
    "print(json_data)"
   ]
  }
 ],
 "metadata": {
  "language_info": {
   "name": "python"
  }
 },
 "nbformat": 4,
 "nbformat_minor": 2
}
